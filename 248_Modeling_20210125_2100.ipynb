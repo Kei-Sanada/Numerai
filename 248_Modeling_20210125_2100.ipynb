{
  "nbformat": 4,
  "nbformat_minor": 0,
  "metadata": {
    "colab": {
      "name": "248_Modeling_20210125_2100.ipynb",
      "provenance": [],
      "collapsed_sections": [],
      "include_colab_link": true
    },
    "kernelspec": {
      "name": "python3",
      "display_name": "Python 3"
    },
    "accelerator": "GPU"
  },
  "cells": [
    {
      "cell_type": "markdown",
      "metadata": {
        "id": "view-in-github",
        "colab_type": "text"
      },
      "source": [
        "<a href=\"https://colab.research.google.com/github/Kei-Sanada/Numerai/blob/master/248_Modeling_20210125_2100.ipynb\" target=\"_parent\"><img src=\"https://colab.research.google.com/assets/colab-badge.svg\" alt=\"Open In Colab\"/></a>"
      ]
    },
    {
      "cell_type": "markdown",
      "metadata": {
        "id": "FgEaiEdlbh3b"
      },
      "source": [
        "**Round248にはこちらを提出**"
      ]
    },
    {
      "cell_type": "code",
      "metadata": {
        "id": "FHrd0S2QPJd0",
        "colab": {
          "base_uri": "https://localhost:8080/"
        },
        "outputId": "1412ce9b-2b1f-455f-9237-d142a7be9b6d"
      },
      "source": [
        "# install dependencies\n",
        "!pip install pandas sklearn numerapi"
      ],
      "execution_count": 1,
      "outputs": [
        {
          "output_type": "stream",
          "text": [
            "Requirement already satisfied: pandas in /usr/local/lib/python3.6/dist-packages (1.1.5)\n",
            "Requirement already satisfied: sklearn in /usr/local/lib/python3.6/dist-packages (0.0)\n",
            "Requirement already satisfied: numerapi in /usr/local/lib/python3.6/dist-packages (2.4.0)\n",
            "Requirement already satisfied: python-dateutil>=2.7.3 in /usr/local/lib/python3.6/dist-packages (from pandas) (2.8.1)\n",
            "Requirement already satisfied: pytz>=2017.2 in /usr/local/lib/python3.6/dist-packages (from pandas) (2018.9)\n",
            "Requirement already satisfied: numpy>=1.15.4 in /usr/local/lib/python3.6/dist-packages (from pandas) (1.19.5)\n",
            "Requirement already satisfied: scikit-learn in /usr/local/lib/python3.6/dist-packages (from sklearn) (0.24.1)\n",
            "Requirement already satisfied: tqdm>=4.29.1 in /usr/local/lib/python3.6/dist-packages (from numerapi) (4.41.1)\n",
            "Requirement already satisfied: requests in /usr/local/lib/python3.6/dist-packages (from numerapi) (2.23.0)\n",
            "Requirement already satisfied: click>=7.0 in /usr/local/lib/python3.6/dist-packages (from numerapi) (7.1.2)\n",
            "Requirement already satisfied: six>=1.5 in /usr/local/lib/python3.6/dist-packages (from python-dateutil>=2.7.3->pandas) (1.15.0)\n",
            "Requirement already satisfied: scipy>=0.19.1 in /usr/local/lib/python3.6/dist-packages (from scikit-learn->sklearn) (1.5.4)\n",
            "Requirement already satisfied: threadpoolctl>=2.0.0 in /usr/local/lib/python3.6/dist-packages (from scikit-learn->sklearn) (2.1.0)\n",
            "Requirement already satisfied: joblib>=0.11 in /usr/local/lib/python3.6/dist-packages (from scikit-learn->sklearn) (1.0.0)\n",
            "Requirement already satisfied: certifi>=2017.4.17 in /usr/local/lib/python3.6/dist-packages (from requests->numerapi) (2020.12.5)\n",
            "Requirement already satisfied: urllib3!=1.25.0,!=1.25.1,<1.26,>=1.21.1 in /usr/local/lib/python3.6/dist-packages (from requests->numerapi) (1.24.3)\n",
            "Requirement already satisfied: idna<3,>=2.5 in /usr/local/lib/python3.6/dist-packages (from requests->numerapi) (2.10)\n",
            "Requirement already satisfied: chardet<4,>=3.0.2 in /usr/local/lib/python3.6/dist-packages (from requests->numerapi) (3.0.4)\n"
          ],
          "name": "stdout"
        }
      ]
    },
    {
      "cell_type": "code",
      "metadata": {
        "id": "juzOwKWcZnIp",
        "colab": {
          "base_uri": "https://localhost:8080/"
        },
        "outputId": "13e76c4a-6f4f-49ea-bdee-2f9807ce8d43"
      },
      "source": [
        "!free -h "
      ],
      "execution_count": 2,
      "outputs": [
        {
          "output_type": "stream",
          "text": [
            "              total        used        free      shared  buff/cache   available\n",
            "Mem:            12G        558M         11G        1.1M        473M         11G\n",
            "Swap:            0B          0B          0B\n"
          ],
          "name": "stdout"
        }
      ]
    },
    {
      "cell_type": "code",
      "metadata": {
        "id": "fibeCqClPQOV"
      },
      "source": [
        "import pandas as pd\n",
        "import numerapi"
      ],
      "execution_count": 3,
      "outputs": []
    },
    {
      "cell_type": "code",
      "metadata": {
        "id": "gKe1OOGx2JtB"
      },
      "source": [
        "training_data = pd.read_csv(\"https://numerai-public-datasets.s3-us-west-2.amazonaws.com/latest_numerai_training_data.csv.xz\")"
      ],
      "execution_count": 4,
      "outputs": []
    },
    {
      "cell_type": "code",
      "metadata": {
        "id": "sNIZAlg5Q-5D"
      },
      "source": [
        "#training_data.head()"
      ],
      "execution_count": 5,
      "outputs": []
    },
    {
      "cell_type": "code",
      "metadata": {
        "id": "nqy-TvbG3DZg"
      },
      "source": [
        "tournament_data  = pd.read_csv(\"https://numerai-public-datasets.s3-us-west-2.amazonaws.com/latest_numerai_tournament_data.csv.xz\")\n",
        "#tournament_data.head()"
      ],
      "execution_count": 6,
      "outputs": []
    },
    {
      "cell_type": "code",
      "metadata": {
        "id": "w_CaUSn2RXlc"
      },
      "source": [
        "#tournament_data['target_kazutsugi'].unique()"
      ],
      "execution_count": 7,
      "outputs": []
    },
    {
      "cell_type": "code",
      "metadata": {
        "id": "FDDvhiuHYGt1"
      },
      "source": [
        "# import dependencies\n",
        "import sklearn.linear_model"
      ],
      "execution_count": 8,
      "outputs": []
    },
    {
      "cell_type": "code",
      "metadata": {
        "id": "IUoirs1Xdd_F"
      },
      "source": [
        "#concentrate in charisma, wisdom \n",
        "feature_names_wisdom = [f for f in training_data.columns if \"feature_wisdom\" in f]\n",
        "feature_names_charisma = [f for f in training_data.columns if \"feature_charisma\" in f]\n",
        "feature_names_intelligence = [f for f in training_data.columns if \"intelligence33\" in f]"
      ],
      "execution_count": 9,
      "outputs": []
    },
    {
      "cell_type": "code",
      "metadata": {
        "id": "sKXNXxiRYSH2"
      },
      "source": [
        "# find only the feature columns\n",
        "feature_cols = feature_names_wisdom + feature_names_charisma + feature_names_intelligence\n",
        "# select those columns out of the training dataset\n",
        "training_features = training_data[feature_cols]"
      ],
      "execution_count": 10,
      "outputs": []
    },
    {
      "cell_type": "code",
      "metadata": {
        "id": "3lhFUEZMYdGP",
        "colab": {
          "base_uri": "https://localhost:8080/"
        },
        "outputId": "cd66c19a-0c18-46d1-d3a9-f074add5fc59"
      },
      "source": [
        "# create a model and fit the training data (~30 sec to run)\n",
        "model = sklearn.linear_model.LinearRegression()\n",
        "model.fit(training_features, training_data.target)"
      ],
      "execution_count": 11,
      "outputs": [
        {
          "output_type": "execute_result",
          "data": {
            "text/plain": [
              "LinearRegression()"
            ]
          },
          "metadata": {
            "tags": []
          },
          "execution_count": 11
        }
      ]
    },
    {
      "cell_type": "code",
      "metadata": {
        "id": "hbyHkvSCYd3O"
      },
      "source": [
        "# select the feature columns from the tournament data\n",
        "live_features = tournament_data[feature_cols]"
      ],
      "execution_count": 12,
      "outputs": []
    },
    {
      "cell_type": "code",
      "metadata": {
        "id": "O0BABEQVYkln"
      },
      "source": [
        "# predict the target on the live features\n",
        "predictions_sklearn_linear_model = model.predict(live_features)"
      ],
      "execution_count": 13,
      "outputs": []
    },
    {
      "cell_type": "markdown",
      "metadata": {
        "id": "3kC6QppxX97V"
      },
      "source": [
        "正規化 https://forum.numer.ai/t/model-diagnostics-feature-exposure/899"
      ]
    },
    {
      "cell_type": "code",
      "metadata": {
        "id": "sNb3n0qy6UBy"
      },
      "source": [
        " #training_data[\"target_kazutsugi\"]"
      ],
      "execution_count": 14,
      "outputs": []
    },
    {
      "cell_type": "code",
      "metadata": {
        "id": "p4o6wAzt43FD",
        "colab": {
          "base_uri": "https://localhost:8080/",
          "height": 124
        },
        "outputId": "bdcfdcb6-2af1-45bf-b8e9-197bee47cb0f"
      },
      "source": [
        "\"\"\"\n",
        "from xgboost import XGBRegressor\n",
        "# train a model to make predictions on tournament data\n",
        "model = XGBRegressor(base_score=0.5, booster='gbtree', colsample_bylevel=1,\n",
        "       colsample_bynode=1, \n",
        "       #colsample_bytree=1,#2021/01/24 Mod by Kei\n",
        "       colsample_bytree=0.1, \n",
        "       gamma=0,\n",
        "       importance_type='gain', \n",
        "       #learning_rate=0.1, #2020/11/29 Mod by Kei\n",
        "       learning_rate=0.01,\n",
        "       max_delta_step=0,\n",
        "       #max_depth=3,\n",
        "       #max_depth=2, #2020/11/15 Mod by Kei\n",
        "       #max_depth=1, #2020/11/29 Mod by Kei\n",
        "       max_depth=5, #2021/01/24 Mod by Kei\n",
        "       #min_child_weight=1,\n",
        "       #min_child_weight=3, #2020/11/15 Mod by Kei\n",
        "       #min_child_weight=4, #2020/11/22 Mod by Kei\n",
        "       min_child_weight=5, #2020/11/29 Mod by Kei\n",
        "       missing=None, \n",
        "       #n_estimators=100, #2021/01/24 Mod by Kei\n",
        "       n_estimators=2000,\n",
        "       #n_jobs=1,#2021/01/24 Mod by Kei\n",
        "       n_jobs=-1, \n",
        "       nthread=None, objective='reg:squarederror', random_state=0,\n",
        "       reg_alpha=0, reg_lambda=1, scale_pos_weight=1, seed=None,\n",
        "       silent=None, subsample=1, verbosity =1,\n",
        "       alpha=0.1) #2020/11/01 alpha=0.1　重みに関するL1正則化項高次元の場合に用いるらしい。\n",
        "#model.fit(training_data[feature_names_dexterity], training_data[\"target_kazutsugi\"])\n",
        "#model.fit(training_data[feature_names_dexterity], training_data[\"target\"]) mod by kei 2020/12/07\n",
        "#model.fit(training_data[feature_names_wisdom + feature_names_intelligence], training_data[\"target\"]) #mod by kei 2021/01/04\n",
        "model.fit(training_data[feature_cols], training_data[\"target\"])#2021/01/24 Mod by Kei\n",
        "# submit predictions to numer.ai\n",
        "predictions_XGBR = model.predict(tournament_data[feature_cols])\n",
        "\"\"\""
      ],
      "execution_count": 15,
      "outputs": [
        {
          "output_type": "execute_result",
          "data": {
            "application/vnd.google.colaboratory.intrinsic+json": {
              "type": "string"
            },
            "text/plain": [
              "'\\nfrom xgboost import XGBRegressor\\n# train a model to make predictions on tournament data\\nmodel = XGBRegressor(base_score=0.5, booster=\\'gbtree\\', colsample_bylevel=1,\\n       colsample_bynode=1, \\n       #colsample_bytree=1,#2021/01/24 Mod by Kei\\n       colsample_bytree=0.1, \\n       gamma=0,\\n       importance_type=\\'gain\\', \\n       #learning_rate=0.1, #2020/11/29 Mod by Kei\\n       learning_rate=0.01,\\n       max_delta_step=0,\\n       #max_depth=3,\\n       #max_depth=2, #2020/11/15 Mod by Kei\\n       #max_depth=1, #2020/11/29 Mod by Kei\\n       max_depth=5, #2021/01/24 Mod by Kei\\n       #min_child_weight=1,\\n       #min_child_weight=3, #2020/11/15 Mod by Kei\\n       #min_child_weight=4, #2020/11/22 Mod by Kei\\n       min_child_weight=5, #2020/11/29 Mod by Kei\\n       missing=None, \\n       #n_estimators=100, #2021/01/24 Mod by Kei\\n       n_estimators=2000,\\n       #n_jobs=1,#2021/01/24 Mod by Kei\\n       n_jobs=-1, \\n       nthread=None, objective=\\'reg:squarederror\\', random_state=0,\\n       reg_alpha=0, reg_lambda=1, scale_pos_weight=1, seed=None,\\n       silent=None, subsample=1, verbosity =1,\\n       alpha=0.1) #2020/11/01 alpha=0.1\\u3000重みに関するL1正則化項高次元の場合に用いるらしい。\\n#model.fit(training_data[feature_names_dexterity], training_data[\"target_kazutsugi\"])\\n#model.fit(training_data[feature_names_dexterity], training_data[\"target\"]) mod by kei 2020/12/07\\n#model.fit(training_data[feature_names_wisdom + feature_names_intelligence], training_data[\"target\"]) #mod by kei 2021/01/04\\nmodel.fit(training_data[feature_cols], training_data[\"target\"])#2021/01/24 Mod by Kei\\n# submit predictions to numer.ai\\npredictions_XGBR = model.predict(tournament_data[feature_cols])\\n'"
            ]
          },
          "metadata": {
            "tags": []
          },
          "execution_count": 15
        }
      ]
    },
    {
      "cell_type": "code",
      "metadata": {
        "colab": {
          "base_uri": "https://localhost:8080/"
        },
        "id": "1m1gHdRuaOh9",
        "outputId": "2fda10ee-3ff6-4e32-8ba9-d6ce1ffadf9c"
      },
      "source": [
        "import lightgbm as lgb\r\n",
        "\r\n",
        "# create a model and fit（LGBのハイパラは↑の公式XGBに寄せてみました）\r\n",
        "params = {\r\n",
        "            'n_estimators': 2000,\r\n",
        "            'objective': 'regression',\r\n",
        "            'boosting_type': 'gbdt',\r\n",
        "            'max_depth': 5,\r\n",
        "            'learning_rate': 0.01, \r\n",
        "            'feature_fraction': 0.1,\r\n",
        "            'seed': 42,\r\n",
        "            'alpha':0.1\r\n",
        "            }    \r\n",
        "model = lgb.LGBMRegressor(**params)\r\n",
        "model.fit(training_data[feature_names_wisdom + feature_names_intelligence], training_data[\"target\"])\r\n",
        "predictions_LGB_wisdom = model.predict(tournament_data[feature_names_wisdom + feature_names_intelligence])\r\n"
      ],
      "execution_count": 16,
      "outputs": [
        {
          "output_type": "stream",
          "text": [
            "[LightGBM] [Warning] feature_fraction is set=0.1, colsample_bytree=1.0 will be ignored. Current value: feature_fraction=0.1\n"
          ],
          "name": "stdout"
        }
      ]
    },
    {
      "cell_type": "code",
      "metadata": {
        "colab": {
          "base_uri": "https://localhost:8080/"
        },
        "id": "AGN0ZX58sq0V",
        "outputId": "1c5d10fa-176b-49a8-8271-3bc27aa57cb9"
      },
      "source": [
        "# create a model and fit（LGBのハイパラは↑の公式XGBに寄せてみました）\r\n",
        "params = {\r\n",
        "            'n_estimators': 2000,\r\n",
        "            'objective': 'regression',\r\n",
        "            'boosting_type': 'gbdt',\r\n",
        "            'max_depth': 5,\r\n",
        "            'learning_rate': 0.01, \r\n",
        "            'feature_fraction': 0.1,\r\n",
        "            'seed': 42,\r\n",
        "            'alpha':0.1\r\n",
        "            }    \r\n",
        "model = lgb.LGBMRegressor(**params)\r\n",
        "model.fit(training_data[feature_names_charisma + feature_names_intelligence], training_data[\"target\"])\r\n",
        "predictions_LGB_charisma = model.predict(tournament_data[feature_names_charisma + feature_names_intelligence])\r\n"
      ],
      "execution_count": 17,
      "outputs": [
        {
          "output_type": "stream",
          "text": [
            "[LightGBM] [Warning] feature_fraction is set=0.1, colsample_bytree=1.0 will be ignored. Current value: feature_fraction=0.1\n"
          ],
          "name": "stdout"
        }
      ]
    },
    {
      "cell_type": "code",
      "metadata": {
        "id": "UrRVQE5nRj2D"
      },
      "source": [
        "predictions = (predictions_sklearn_linear_model + predictions_LGB_wisdom + predictions_LGB_charisma) / 3"
      ],
      "execution_count": 18,
      "outputs": []
    },
    {
      "cell_type": "code",
      "metadata": {
        "id": "UNt1H1gaFU00"
      },
      "source": [
        "#tournament_data[\"id\"]"
      ],
      "execution_count": 19,
      "outputs": []
    },
    {
      "cell_type": "code",
      "metadata": {
        "id": "ruMRSvoFEXh_",
        "colab": {
          "base_uri": "https://localhost:8080/",
          "height": 195
        },
        "outputId": "4c0a0614-5ce9-4418-b5a0-eb05e03ce4b2"
      },
      "source": [
        "# predictions must have an `id` column and a `prediction_kazutsugi` column\n",
        "predictions_df = tournament_data[\"id\"].to_frame()\n",
        "predictions_df[\"prediction_kazutsugi\"] = predictions\n",
        "predictions_df.head()"
      ],
      "execution_count": 20,
      "outputs": [
        {
          "output_type": "execute_result",
          "data": {
            "text/html": [
              "<div>\n",
              "<style scoped>\n",
              "    .dataframe tbody tr th:only-of-type {\n",
              "        vertical-align: middle;\n",
              "    }\n",
              "\n",
              "    .dataframe tbody tr th {\n",
              "        vertical-align: top;\n",
              "    }\n",
              "\n",
              "    .dataframe thead th {\n",
              "        text-align: right;\n",
              "    }\n",
              "</style>\n",
              "<table border=\"1\" class=\"dataframe\">\n",
              "  <thead>\n",
              "    <tr style=\"text-align: right;\">\n",
              "      <th></th>\n",
              "      <th>id</th>\n",
              "      <th>prediction_kazutsugi</th>\n",
              "    </tr>\n",
              "  </thead>\n",
              "  <tbody>\n",
              "    <tr>\n",
              "      <th>0</th>\n",
              "      <td>n0003aa52cab36c2</td>\n",
              "      <td>0.499017</td>\n",
              "    </tr>\n",
              "    <tr>\n",
              "      <th>1</th>\n",
              "      <td>n000920ed083903f</td>\n",
              "      <td>0.499526</td>\n",
              "    </tr>\n",
              "    <tr>\n",
              "      <th>2</th>\n",
              "      <td>n0038e640522c4a6</td>\n",
              "      <td>0.505004</td>\n",
              "    </tr>\n",
              "    <tr>\n",
              "      <th>3</th>\n",
              "      <td>n004ac94a87dc54b</td>\n",
              "      <td>0.494756</td>\n",
              "    </tr>\n",
              "    <tr>\n",
              "      <th>4</th>\n",
              "      <td>n0052fe97ea0c05f</td>\n",
              "      <td>0.504223</td>\n",
              "    </tr>\n",
              "  </tbody>\n",
              "</table>\n",
              "</div>"
            ],
            "text/plain": [
              "                 id  prediction_kazutsugi\n",
              "0  n0003aa52cab36c2              0.499017\n",
              "1  n000920ed083903f              0.499526\n",
              "2  n0038e640522c4a6              0.505004\n",
              "3  n004ac94a87dc54b              0.494756\n",
              "4  n0052fe97ea0c05f              0.504223"
            ]
          },
          "metadata": {
            "tags": []
          },
          "execution_count": 20
        }
      ]
    },
    {
      "cell_type": "code",
      "metadata": {
        "id": "DZ4-mqpiIXV6"
      },
      "source": [
        "import numpy as np\n",
        "ranked_prediction = training_data[\"target\"].rank(pct=True, method=\"first\")\n",
        "correlation = np.corrcoef(training_data[\"target\"], ranked_prediction)[0, 1]"
      ],
      "execution_count": 21,
      "outputs": []
    },
    {
      "cell_type": "code",
      "metadata": {
        "id": "n2eqtYgqJ39q",
        "colab": {
          "base_uri": "https://localhost:8080/"
        },
        "outputId": "5fc7bd75-120b-4bf9-8938-69525951248c"
      },
      "source": [
        "ranked_prediction"
      ],
      "execution_count": 22,
      "outputs": [
        {
          "output_type": "execute_result",
          "data": {
            "text/plain": [
              "0         0.249239\n",
              "1         0.049854\n",
              "2         0.049856\n",
              "3         0.049858\n",
              "4         0.750779\n",
              "            ...   \n",
              "501803    0.750773\n",
              "501804    0.950146\n",
              "501805    0.249237\n",
              "501806    0.750775\n",
              "501807    0.750777\n",
              "Name: target, Length: 501808, dtype: float64"
            ]
          },
          "metadata": {
            "tags": []
          },
          "execution_count": 22
        }
      ]
    },
    {
      "cell_type": "code",
      "metadata": {
        "id": "u3iC4mbSTVoL",
        "colab": {
          "base_uri": "https://localhost:8080/"
        },
        "outputId": "13070d2e-70c7-4602-f8a1-04be48aaa703"
      },
      "source": [
        "correlation"
      ],
      "execution_count": 23,
      "outputs": [
        {
          "output_type": "execute_result",
          "data": {
            "text/plain": [
              "0.9095228541212714"
            ]
          },
          "metadata": {
            "tags": []
          },
          "execution_count": 23
        }
      ]
    },
    {
      "cell_type": "code",
      "metadata": {
        "id": "VIHU3Z3wMw4K"
      },
      "source": [
        "#training_data[\"target_kazutsugi\"]"
      ],
      "execution_count": 24,
      "outputs": []
    },
    {
      "cell_type": "code",
      "metadata": {
        "id": "i1yiW_1IKxF8"
      },
      "source": [
        "# Get your API keys and model_id from https://numer.ai/submit\n",
        "public_id = \"CYATEL5QQBU6APNFLCV7HEE7PV6SC7V6\"\n",
        "secret_key = \"Y22BTSUGU4JEFGQB3RZNEESSULKA3HQJPAW3KI6BIXH2AMNMCTC44IFWTOQIO2UW\"\n",
        "model_id = \"3c77ba09-cfa2-4b18-b789-918340c84c82\"\n",
        "napi = numerapi.NumerAPI(public_id=public_id, secret_key=secret_key)"
      ],
      "execution_count": 25,
      "outputs": []
    },
    {
      "cell_type": "code",
      "metadata": {
        "id": "OgJi-bMjKzog",
        "colab": {
          "base_uri": "https://localhost:8080/"
        },
        "outputId": "ba097f8f-ffda-4a07-91d4-ed5997d90c33"
      },
      "source": [
        "predictions_df.to_csv(\"predictions.csv\", index=False)\n",
        "submission_id = napi.upload_predictions(\"predictions.csv\", model_id=model_id)"
      ],
      "execution_count": 26,
      "outputs": [
        {
          "output_type": "stream",
          "text": [
            "2021-01-25 13:31:46,800 INFO numerapi.base_api: uploading predictions...\n"
          ],
          "name": "stderr"
        }
      ]
    },
    {
      "cell_type": "code",
      "metadata": {
        "id": "9oD82DqKajS-"
      },
      "source": [
        ""
      ],
      "execution_count": 26,
      "outputs": []
    },
    {
      "cell_type": "markdown",
      "metadata": {
        "id": "Cg5CI_Veaw4_"
      },
      "source": [
        "sklearn_linear_modelと　LightGBM\n",
        "concentrate in charisma, wisdom \n",
        "\n",
        "DIAGNOSTICS\n",
        "Performance\n",
        "Validation Sharpe\n",
        "0.8669\n",
        "Validation Mean\n",
        "0.0208\n",
        "Feature Neutral Mean\n",
        "0.0094\n",
        "Risk\n",
        "Validation SD\n",
        "0.0239\n",
        "Feature Exposure\n",
        "0.3186\n",
        "Max Drawdown\n",
        "-0.064\n",
        "MMC\n",
        "Corr + MMC Sharpe\n",
        "0.7359\n",
        "MMC Mean\n",
        "0.0053\n",
        "Corr With Example Preds\n",
        "0.5276"
      ]
    }
  ]
}