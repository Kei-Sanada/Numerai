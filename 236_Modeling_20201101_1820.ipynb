{
  "nbformat": 4,
  "nbformat_minor": 0,
  "metadata": {
    "colab": {
      "name": "236_Modeling_20201101_1820.ipynb",
      "provenance": [],
      "include_colab_link": true
    },
    "kernelspec": {
      "name": "python3",
      "display_name": "Python 3"
    },
    "accelerator": "GPU"
  },
  "cells": [
    {
      "cell_type": "markdown",
      "metadata": {
        "id": "view-in-github",
        "colab_type": "text"
      },
      "source": [
        "<a href=\"https://colab.research.google.com/github/Kei-Sanada/Numerai/blob/master/236_Modeling_20201101_1820.ipynb\" target=\"_parent\"><img src=\"https://colab.research.google.com/assets/colab-badge.svg\" alt=\"Open In Colab\"/></a>"
      ]
    },
    {
      "cell_type": "markdown",
      "metadata": {
        "id": "FgEaiEdlbh3b"
      },
      "source": [
        "Round236にはこちらを提出"
      ]
    },
    {
      "cell_type": "code",
      "metadata": {
        "id": "FHrd0S2QPJd0",
        "outputId": "6751ed5d-49a5-4863-c4e2-0ee4fd8af747",
        "colab": {
          "base_uri": "https://localhost:8080/"
        }
      },
      "source": [
        "# install dependencies\n",
        "!pip install pandas sklearn numerapi"
      ],
      "execution_count": null,
      "outputs": [
        {
          "output_type": "stream",
          "text": [
            "Requirement already satisfied: pandas in /usr/local/lib/python3.6/dist-packages (1.1.3)\n",
            "Requirement already satisfied: sklearn in /usr/local/lib/python3.6/dist-packages (0.0)\n",
            "Collecting numerapi\n",
            "  Downloading https://files.pythonhosted.org/packages/1d/64/d104dde59afb0b56d0c025d7db4707fb197e49a7f6e310228629c9f8e73e/numerapi-2.3.8-py3-none-any.whl\n",
            "Requirement already satisfied: numpy>=1.15.4 in /usr/local/lib/python3.6/dist-packages (from pandas) (1.18.5)\n",
            "Requirement already satisfied: python-dateutil>=2.7.3 in /usr/local/lib/python3.6/dist-packages (from pandas) (2.8.1)\n",
            "Requirement already satisfied: pytz>=2017.2 in /usr/local/lib/python3.6/dist-packages (from pandas) (2018.9)\n",
            "Requirement already satisfied: scikit-learn in /usr/local/lib/python3.6/dist-packages (from sklearn) (0.22.2.post1)\n",
            "Requirement already satisfied: requests in /usr/local/lib/python3.6/dist-packages (from numerapi) (2.23.0)\n",
            "Requirement already satisfied: click>=7.0 in /usr/local/lib/python3.6/dist-packages (from numerapi) (7.1.2)\n",
            "Requirement already satisfied: tqdm>=4.29.1 in /usr/local/lib/python3.6/dist-packages (from numerapi) (4.41.1)\n",
            "Requirement already satisfied: six>=1.5 in /usr/local/lib/python3.6/dist-packages (from python-dateutil>=2.7.3->pandas) (1.15.0)\n",
            "Requirement already satisfied: scipy>=0.17.0 in /usr/local/lib/python3.6/dist-packages (from scikit-learn->sklearn) (1.4.1)\n",
            "Requirement already satisfied: joblib>=0.11 in /usr/local/lib/python3.6/dist-packages (from scikit-learn->sklearn) (0.17.0)\n",
            "Requirement already satisfied: idna<3,>=2.5 in /usr/local/lib/python3.6/dist-packages (from requests->numerapi) (2.10)\n",
            "Requirement already satisfied: urllib3!=1.25.0,!=1.25.1,<1.26,>=1.21.1 in /usr/local/lib/python3.6/dist-packages (from requests->numerapi) (1.24.3)\n",
            "Requirement already satisfied: chardet<4,>=3.0.2 in /usr/local/lib/python3.6/dist-packages (from requests->numerapi) (3.0.4)\n",
            "Requirement already satisfied: certifi>=2017.4.17 in /usr/local/lib/python3.6/dist-packages (from requests->numerapi) (2020.6.20)\n",
            "Installing collected packages: numerapi\n",
            "Successfully installed numerapi-2.3.8\n"
          ],
          "name": "stdout"
        }
      ]
    },
    {
      "cell_type": "code",
      "metadata": {
        "id": "juzOwKWcZnIp",
        "outputId": "d8a1b841-a851-4365-9a08-80327f721427",
        "colab": {
          "base_uri": "https://localhost:8080/"
        }
      },
      "source": [
        "!free -h "
      ],
      "execution_count": null,
      "outputs": [
        {
          "output_type": "stream",
          "text": [
            "              total        used        free      shared  buff/cache   available\n",
            "Mem:            12G        544M         10G        964K        2.0G         11G\n",
            "Swap:            0B          0B          0B\n"
          ],
          "name": "stdout"
        }
      ]
    },
    {
      "cell_type": "code",
      "metadata": {
        "id": "fibeCqClPQOV"
      },
      "source": [
        "import pandas as pd\n",
        "import numerapi"
      ],
      "execution_count": null,
      "outputs": []
    },
    {
      "cell_type": "code",
      "metadata": {
        "id": "gKe1OOGx2JtB"
      },
      "source": [
        "training_data = pd.read_csv(\"https://numerai-public-datasets.s3-us-west-2.amazonaws.com/latest_numerai_training_data.csv.xz\")\n",
        "#training_data.head()"
      ],
      "execution_count": null,
      "outputs": []
    },
    {
      "cell_type": "code",
      "metadata": {
        "id": "nqy-TvbG3DZg"
      },
      "source": [
        "tournament_data  = pd.read_csv(\"https://numerai-public-datasets.s3-us-west-2.amazonaws.com/latest_numerai_tournament_data.csv.xz\")\n",
        "#tournament_data.head()"
      ],
      "execution_count": null,
      "outputs": []
    },
    {
      "cell_type": "code",
      "metadata": {
        "id": "w_CaUSn2RXlc"
      },
      "source": [
        "#tournament_data['target_kazutsugi'].unique()"
      ],
      "execution_count": null,
      "outputs": []
    },
    {
      "cell_type": "code",
      "metadata": {
        "id": "FDDvhiuHYGt1"
      },
      "source": [
        "# import dependencies\n",
        "import sklearn.linear_model"
      ],
      "execution_count": null,
      "outputs": []
    },
    {
      "cell_type": "code",
      "metadata": {
        "id": "sKXNXxiRYSH2"
      },
      "source": [
        "# find only the feature columns\n",
        "feature_cols = [f for f in training_data.columns if \"feature\" in f]\n",
        "\n",
        "# select those columns out of the training dataset\n",
        "training_features = training_data[feature_cols]"
      ],
      "execution_count": null,
      "outputs": []
    },
    {
      "cell_type": "code",
      "metadata": {
        "id": "3lhFUEZMYdGP",
        "outputId": "cefb129d-12c1-45ad-8861-cff7acf5fd8a",
        "colab": {
          "base_uri": "https://localhost:8080/"
        }
      },
      "source": [
        "# create a model and fit the training data (~30 sec to run)\n",
        "model = sklearn.linear_model.LinearRegression()\n",
        "model.fit(training_features, training_data.target_kazutsugi)"
      ],
      "execution_count": null,
      "outputs": [
        {
          "output_type": "execute_result",
          "data": {
            "text/plain": [
              "LinearRegression(copy_X=True, fit_intercept=True, n_jobs=None, normalize=False)"
            ]
          },
          "metadata": {
            "tags": []
          },
          "execution_count": 9
        }
      ]
    },
    {
      "cell_type": "code",
      "metadata": {
        "id": "hbyHkvSCYd3O"
      },
      "source": [
        "# select the feature columns from the tournament data\n",
        "live_features = tournament_data[feature_cols]"
      ],
      "execution_count": null,
      "outputs": []
    },
    {
      "cell_type": "code",
      "metadata": {
        "id": "O0BABEQVYkln"
      },
      "source": [
        "# predict the target on the live features\n",
        "predictions_sklearn_linear_model = model.predict(live_features)"
      ],
      "execution_count": null,
      "outputs": []
    },
    {
      "cell_type": "markdown",
      "metadata": {
        "id": "3kC6QppxX97V"
      },
      "source": [
        "正規化 https://forum.numer.ai/t/model-diagnostics-feature-exposure/899"
      ]
    },
    {
      "cell_type": "code",
      "metadata": {
        "id": "RoUssGNL46Ea"
      },
      "source": [
        "feature_names_dexterity = [f for f in training_data.columns if \"feature_dexterity\" in f]\n",
        "feature_names_intelligence = [f for f in training_data.columns if \"feature_intelligence\" in f]\n"
      ],
      "execution_count": null,
      "outputs": []
    },
    {
      "cell_type": "code",
      "metadata": {
        "id": "U_89YcbjL3Zn",
        "outputId": "b2e38e9f-5914-439f-a195-c528ecaf66af",
        "colab": {
          "base_uri": "https://localhost:8080/"
        }
      },
      "source": [
        "feature_names_dexterity\n",
        "feature_names_intelligence"
      ],
      "execution_count": null,
      "outputs": [
        {
          "output_type": "execute_result",
          "data": {
            "text/plain": [
              "['feature_intelligence1',\n",
              " 'feature_intelligence2',\n",
              " 'feature_intelligence3',\n",
              " 'feature_intelligence4',\n",
              " 'feature_intelligence5',\n",
              " 'feature_intelligence6',\n",
              " 'feature_intelligence7',\n",
              " 'feature_intelligence8',\n",
              " 'feature_intelligence9',\n",
              " 'feature_intelligence10',\n",
              " 'feature_intelligence11',\n",
              " 'feature_intelligence12']"
            ]
          },
          "metadata": {
            "tags": []
          },
          "execution_count": 13
        }
      ]
    },
    {
      "cell_type": "code",
      "metadata": {
        "id": "sNb3n0qy6UBy"
      },
      "source": [
        " #training_data[\"target_kazutsugi\"]"
      ],
      "execution_count": null,
      "outputs": []
    },
    {
      "cell_type": "code",
      "metadata": {
        "id": "DBtyiK1jRWCN"
      },
      "source": [
        " from xgboost import XGBRegressor"
      ],
      "execution_count": null,
      "outputs": []
    },
    {
      "cell_type": "code",
      "metadata": {
        "id": "p4o6wAzt43FD"
      },
      "source": [
        "# train a model to make predictions on tournament data\n",
        "#feature_names_dexterity\n",
        "model = XGBRegressor(base_score=0.5, booster='gbtree', colsample_bylevel=1,\n",
        "       colsample_bynode=1, colsample_bytree=1, gamma=0,\n",
        "       importance_type='gain', learning_rate=0.1, max_delta_step=0,\n",
        "       max_depth=3, min_child_weight=1, missing=None, n_estimators=100,\n",
        "       n_jobs=1, nthread=None, objective='reg:squarederror', random_state=0,\n",
        "       reg_alpha=0, reg_lambda=1, scale_pos_weight=1, seed=None,\n",
        "       silent=None, subsample=1, verbosity =1,\n",
        "       alpha=0.1) #2020/11/01 alpha=0.1　重みに関するL1正則化項高次元の場合に用いるらしい。\n",
        "model.fit(training_data[feature_names_dexterity], training_data[\"target_kazutsugi\"])\n",
        "\n",
        "# submit predictions to numer.ai\n",
        "predictions_dexterity = model.predict(tournament_data[feature_names_dexterity])"
      ],
      "execution_count": null,
      "outputs": []
    },
    {
      "cell_type": "code",
      "metadata": {
        "id": "p--GyWPbRPjM"
      },
      "source": [
        "# train a model to make predictions on tournament data\n",
        "#feature_names_intelligence\n",
        "model = XGBRegressor(base_score=0.5, booster='gbtree', colsample_bylevel=1,\n",
        "       colsample_bynode=1, colsample_bytree=1, gamma=0,\n",
        "       importance_type='gain', learning_rate=0.1, max_delta_step=0,\n",
        "       max_depth=3, min_child_weight=1, missing=None, n_estimators=100,\n",
        "       n_jobs=1, nthread=None, objective='reg:squarederror', random_state=0,\n",
        "       reg_alpha=0, reg_lambda=1, scale_pos_weight=1, seed=None,\n",
        "       silent=None, subsample=1, verbosity =1,\n",
        "       alpha=0.1) #2020/11/01 alpha=0.1　重みに関するL1正則化項高次元の場合に用いるらしい。\n",
        "model.fit(training_data[feature_names_intelligence], training_data[\"target_kazutsugi\"])\n",
        "\n",
        "# submit predictions to numer.ai\n",
        "predictions_intelligence = model.predict(tournament_data[feature_names_intelligence])"
      ],
      "execution_count": null,
      "outputs": []
    },
    {
      "cell_type": "code",
      "metadata": {
        "id": "UrRVQE5nRj2D"
      },
      "source": [
        "predictions = (predictions_sklearn_linear_model + predictions_dexterity + predictions_intelligence) / 3"
      ],
      "execution_count": null,
      "outputs": []
    },
    {
      "cell_type": "code",
      "metadata": {
        "id": "UNt1H1gaFU00"
      },
      "source": [
        "#tournament_data[\"id\"]"
      ],
      "execution_count": null,
      "outputs": []
    },
    {
      "cell_type": "code",
      "metadata": {
        "id": "ruMRSvoFEXh_",
        "outputId": "ada47aa3-cc5b-4a61-a585-63289576e234",
        "colab": {
          "base_uri": "https://localhost:8080/",
          "height": 204
        }
      },
      "source": [
        "# predictions must have an `id` column and a `prediction_kazutsugi` column\n",
        "predictions_df = tournament_data[\"id\"].to_frame()\n",
        "predictions_df[\"prediction_kazutsugi\"] = predictions\n",
        "predictions_df.head()"
      ],
      "execution_count": null,
      "outputs": [
        {
          "output_type": "execute_result",
          "data": {
            "text/html": [
              "<div>\n",
              "<style scoped>\n",
              "    .dataframe tbody tr th:only-of-type {\n",
              "        vertical-align: middle;\n",
              "    }\n",
              "\n",
              "    .dataframe tbody tr th {\n",
              "        vertical-align: top;\n",
              "    }\n",
              "\n",
              "    .dataframe thead th {\n",
              "        text-align: right;\n",
              "    }\n",
              "</style>\n",
              "<table border=\"1\" class=\"dataframe\">\n",
              "  <thead>\n",
              "    <tr style=\"text-align: right;\">\n",
              "      <th></th>\n",
              "      <th>id</th>\n",
              "      <th>prediction_kazutsugi</th>\n",
              "    </tr>\n",
              "  </thead>\n",
              "  <tbody>\n",
              "    <tr>\n",
              "      <th>0</th>\n",
              "      <td>n0003aa52cab36c2</td>\n",
              "      <td>0.482960</td>\n",
              "    </tr>\n",
              "    <tr>\n",
              "      <th>1</th>\n",
              "      <td>n000920ed083903f</td>\n",
              "      <td>0.497361</td>\n",
              "    </tr>\n",
              "    <tr>\n",
              "      <th>2</th>\n",
              "      <td>n0038e640522c4a6</td>\n",
              "      <td>0.517235</td>\n",
              "    </tr>\n",
              "    <tr>\n",
              "      <th>3</th>\n",
              "      <td>n004ac94a87dc54b</td>\n",
              "      <td>0.499275</td>\n",
              "    </tr>\n",
              "    <tr>\n",
              "      <th>4</th>\n",
              "      <td>n0052fe97ea0c05f</td>\n",
              "      <td>0.495133</td>\n",
              "    </tr>\n",
              "  </tbody>\n",
              "</table>\n",
              "</div>"
            ],
            "text/plain": [
              "                 id  prediction_kazutsugi\n",
              "0  n0003aa52cab36c2              0.482960\n",
              "1  n000920ed083903f              0.497361\n",
              "2  n0038e640522c4a6              0.517235\n",
              "3  n004ac94a87dc54b              0.499275\n",
              "4  n0052fe97ea0c05f              0.495133"
            ]
          },
          "metadata": {
            "tags": []
          },
          "execution_count": 20
        }
      ]
    },
    {
      "cell_type": "code",
      "metadata": {
        "id": "DZ4-mqpiIXV6"
      },
      "source": [
        "import numpy as np\n",
        "ranked_prediction = training_data[\"target_kazutsugi\"].rank(pct=True, method=\"first\")\n",
        "correlation = np.corrcoef(training_data[\"target_kazutsugi\"], ranked_prediction)[0, 1]"
      ],
      "execution_count": null,
      "outputs": []
    },
    {
      "cell_type": "code",
      "metadata": {
        "id": "n2eqtYgqJ39q",
        "outputId": "81da6be3-db68-4a47-88e3-93e22f6c9e09",
        "colab": {
          "base_uri": "https://localhost:8080/"
        }
      },
      "source": [
        "ranked_prediction"
      ],
      "execution_count": null,
      "outputs": [
        {
          "output_type": "execute_result",
          "data": {
            "text/plain": [
              "0         0.601268\n",
              "1         0.199365\n",
              "2         0.000002\n",
              "3         0.000004\n",
              "4         0.601270\n",
              "            ...   \n",
              "501803    0.398732\n",
              "501804    1.000000\n",
              "501805    0.199363\n",
              "501806    0.398734\n",
              "501807    0.601266\n",
              "Name: target_kazutsugi, Length: 501808, dtype: float64"
            ]
          },
          "metadata": {
            "tags": []
          },
          "execution_count": 22
        }
      ]
    },
    {
      "cell_type": "code",
      "metadata": {
        "id": "u3iC4mbSTVoL",
        "outputId": "4077a9dc-a37c-41f4-e0ba-a9e39ab84472",
        "colab": {
          "base_uri": "https://localhost:8080/"
        }
      },
      "source": [
        "correlation"
      ],
      "execution_count": null,
      "outputs": [
        {
          "output_type": "execute_result",
          "data": {
            "text/plain": [
              "0.9797922144295415"
            ]
          },
          "metadata": {
            "tags": []
          },
          "execution_count": 23
        }
      ]
    },
    {
      "cell_type": "code",
      "metadata": {
        "id": "VIHU3Z3wMw4K"
      },
      "source": [
        "#training_data[\"target_kazutsugi\"]"
      ],
      "execution_count": null,
      "outputs": []
    },
    {
      "cell_type": "code",
      "metadata": {
        "id": "i1yiW_1IKxF8"
      },
      "source": [
        "# Get your API keys and model_id from https://numer.ai/submit\n",
        "public_id = \"CYATEL5QQBU6APNFLCV7HEE7PV6SC7V6\"\n",
        "secret_key = \"Y22BTSUGU4JEFGQB3RZNEESSULKA3HQJPAW3KI6BIXH2AMNMCTC44IFWTOQIO2UW\"\n",
        "model_id = \"3c77ba09-cfa2-4b18-b789-918340c84c82\"\n",
        "napi = numerapi.NumerAPI(public_id=public_id, secret_key=secret_key)"
      ],
      "execution_count": null,
      "outputs": []
    },
    {
      "cell_type": "code",
      "metadata": {
        "id": "OgJi-bMjKzog",
        "outputId": "bca419fa-3eb2-418d-adb3-1d3ec9d8a432",
        "colab": {
          "base_uri": "https://localhost:8080/"
        }
      },
      "source": [
        "predictions_df.to_csv(\"predictions.csv\", index=False)\n",
        "submission_id = napi.upload_predictions(\"predictions.csv\", model_id=model_id)"
      ],
      "execution_count": null,
      "outputs": [
        {
          "output_type": "stream",
          "text": [
            "2020-11-01 10:44:16,069 INFO numerapi.base_api: uploading predictions...\n"
          ],
          "name": "stderr"
        }
      ]
    },
    {
      "cell_type": "code",
      "metadata": {
        "id": "9oD82DqKajS-"
      },
      "source": [
        ""
      ],
      "execution_count": null,
      "outputs": []
    },
    {
      "cell_type": "markdown",
      "metadata": {
        "id": "Cg5CI_Veaw4_"
      },
      "source": [
        "sklearn_linear_modelと　XGBRegressor\n",
        "\n",
        "Performance\n",
        "Validation Sharpe\n",
        "0.3927\n",
        "Validation Mean\n",
        "0.0142\n",
        "Feature Neutral Mean\n",
        "0.0031\n",
        "Risk\n",
        "Validation SD\n",
        "0.0362\n",
        "Feature Exposure\n",
        "0.4651\n",
        "Max Drawdown\n",
        "-0.1468\n",
        "MMC\n",
        "Corr + MMC Sharpe\n",
        "0.1213\n",
        "MMC Mean\n",
        "-0.0072\n",
        "Corr With Example Preds\n",
        "0.7007"
      ]
    },
    {
      "cell_type": "markdown",
      "metadata": {
        "id": "A1J76mo6UGhe"
      },
      "source": [
        "XGBRegressorのみ\n",
        "\n",
        "Validation Sharpe\n",
        "0.091\n",
        "Validation Mean\n",
        "0.0026\n",
        "Feature Neutral Mean\n",
        "0.0031\n",
        "Risk\n",
        "Validation SD\n",
        "0.0287\n",
        "Feature Exposure\n",
        "0.4877\n",
        "Max Drawdown\n",
        "-0.1009\n",
        "MMC\n",
        "Corr + MMC Sharpe\n",
        "-0.1684\n",
        "MMC Mean\n",
        "-0.0113\n",
        "Corr With Example Preds\n",
        "0.4248"
      ]
    }
  ]
}